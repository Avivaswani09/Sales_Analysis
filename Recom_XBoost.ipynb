{
 "cells": [
  {
   "cell_type": "code",
   "execution_count": 145,
   "id": "05d6d66e",
   "metadata": {},
   "outputs": [],
   "source": [
    "import pandas as pd\n",
    "from sklearn.model_selection import train_test_split\n",
    "from sklearn.preprocessing import StandardScaler\n",
    "from xgboost import XGBRegressor"
   ]
  },
  {
   "cell_type": "code",
   "execution_count": 146,
   "id": "a439a680",
   "metadata": {},
   "outputs": [],
   "source": [
    "# Load your dataset\n",
    "data = pd.read_csv('phone_data_cleaned.csv')"
   ]
  },
  {
   "cell_type": "code",
   "execution_count": 147,
   "id": "358f3caa",
   "metadata": {},
   "outputs": [
    {
     "data": {
      "text/plain": [
       "0    6.70\n",
       "1    6.59\n",
       "2    6.60\n",
       "3    6.55\n",
       "4    6.70\n",
       "Name: screen_size, dtype: float64"
      ]
     },
     "execution_count": 147,
     "metadata": {},
     "output_type": "execute_result"
    }
   ],
   "source": [
    "data['screen_size'].head()"
   ]
  },
  {
   "cell_type": "code",
   "execution_count": 148,
   "id": "0663e7fc",
   "metadata": {},
   "outputs": [],
   "source": [
    "# Select the relevant features and target variable\n",
    "features = data[['has_5g', 'ram_amount', 'inbuilt_storage', 'battery_life', 'charging_speed', 'primary_camera_resolution', 'clock_speed_ghz']]\n",
    "target = data['rating']\n",
    "\n",
    "# Split the data into training and testing sets\n",
    "X_train, X_test, y_train, y_test = train_test_split(features, target, test_size=0.2, random_state=42)"
   ]
  },
  {
   "cell_type": "code",
   "execution_count": 149,
   "id": "696b53b4",
   "metadata": {},
   "outputs": [
    {
     "data": {
      "text/html": [
       "<style>#sk-container-id-11 {color: black;}#sk-container-id-11 pre{padding: 0;}#sk-container-id-11 div.sk-toggleable {background-color: white;}#sk-container-id-11 label.sk-toggleable__label {cursor: pointer;display: block;width: 100%;margin-bottom: 0;padding: 0.3em;box-sizing: border-box;text-align: center;}#sk-container-id-11 label.sk-toggleable__label-arrow:before {content: \"▸\";float: left;margin-right: 0.25em;color: #696969;}#sk-container-id-11 label.sk-toggleable__label-arrow:hover:before {color: black;}#sk-container-id-11 div.sk-estimator:hover label.sk-toggleable__label-arrow:before {color: black;}#sk-container-id-11 div.sk-toggleable__content {max-height: 0;max-width: 0;overflow: hidden;text-align: left;background-color: #f0f8ff;}#sk-container-id-11 div.sk-toggleable__content pre {margin: 0.2em;color: black;border-radius: 0.25em;background-color: #f0f8ff;}#sk-container-id-11 input.sk-toggleable__control:checked~div.sk-toggleable__content {max-height: 200px;max-width: 100%;overflow: auto;}#sk-container-id-11 input.sk-toggleable__control:checked~label.sk-toggleable__label-arrow:before {content: \"▾\";}#sk-container-id-11 div.sk-estimator input.sk-toggleable__control:checked~label.sk-toggleable__label {background-color: #d4ebff;}#sk-container-id-11 div.sk-label input.sk-toggleable__control:checked~label.sk-toggleable__label {background-color: #d4ebff;}#sk-container-id-11 input.sk-hidden--visually {border: 0;clip: rect(1px 1px 1px 1px);clip: rect(1px, 1px, 1px, 1px);height: 1px;margin: -1px;overflow: hidden;padding: 0;position: absolute;width: 1px;}#sk-container-id-11 div.sk-estimator {font-family: monospace;background-color: #f0f8ff;border: 1px dotted black;border-radius: 0.25em;box-sizing: border-box;margin-bottom: 0.5em;}#sk-container-id-11 div.sk-estimator:hover {background-color: #d4ebff;}#sk-container-id-11 div.sk-parallel-item::after {content: \"\";width: 100%;border-bottom: 1px solid gray;flex-grow: 1;}#sk-container-id-11 div.sk-label:hover label.sk-toggleable__label {background-color: #d4ebff;}#sk-container-id-11 div.sk-serial::before {content: \"\";position: absolute;border-left: 1px solid gray;box-sizing: border-box;top: 0;bottom: 0;left: 50%;z-index: 0;}#sk-container-id-11 div.sk-serial {display: flex;flex-direction: column;align-items: center;background-color: white;padding-right: 0.2em;padding-left: 0.2em;position: relative;}#sk-container-id-11 div.sk-item {position: relative;z-index: 1;}#sk-container-id-11 div.sk-parallel {display: flex;align-items: stretch;justify-content: center;background-color: white;position: relative;}#sk-container-id-11 div.sk-item::before, #sk-container-id-11 div.sk-parallel-item::before {content: \"\";position: absolute;border-left: 1px solid gray;box-sizing: border-box;top: 0;bottom: 0;left: 50%;z-index: -1;}#sk-container-id-11 div.sk-parallel-item {display: flex;flex-direction: column;z-index: 1;position: relative;background-color: white;}#sk-container-id-11 div.sk-parallel-item:first-child::after {align-self: flex-end;width: 50%;}#sk-container-id-11 div.sk-parallel-item:last-child::after {align-self: flex-start;width: 50%;}#sk-container-id-11 div.sk-parallel-item:only-child::after {width: 0;}#sk-container-id-11 div.sk-dashed-wrapped {border: 1px dashed gray;margin: 0 0.4em 0.5em 0.4em;box-sizing: border-box;padding-bottom: 0.4em;background-color: white;}#sk-container-id-11 div.sk-label label {font-family: monospace;font-weight: bold;display: inline-block;line-height: 1.2em;}#sk-container-id-11 div.sk-label-container {text-align: center;}#sk-container-id-11 div.sk-container {/* jupyter's `normalize.less` sets `[hidden] { display: none; }` but bootstrap.min.css set `[hidden] { display: none !important; }` so we also need the `!important` here to be able to override the default hidden behavior on the sphinx rendered scikit-learn.org. See: https://github.com/scikit-learn/scikit-learn/issues/21755 */display: inline-block !important;position: relative;}#sk-container-id-11 div.sk-text-repr-fallback {display: none;}</style><div id=\"sk-container-id-11\" class=\"sk-top-container\"><div class=\"sk-text-repr-fallback\"><pre>XGBRegressor(base_score=None, booster=None, callbacks=None,\n",
       "             colsample_bylevel=None, colsample_bynode=None,\n",
       "             colsample_bytree=None, device=None, early_stopping_rounds=None,\n",
       "             enable_categorical=False, eval_metric=None, feature_types=None,\n",
       "             gamma=None, grow_policy=None, importance_type=None,\n",
       "             interaction_constraints=None, learning_rate=None, max_bin=None,\n",
       "             max_cat_threshold=None, max_cat_to_onehot=None,\n",
       "             max_delta_step=None, max_depth=None, max_leaves=None,\n",
       "             min_child_weight=None, missing=nan, monotone_constraints=None,\n",
       "             multi_strategy=None, n_estimators=100, n_jobs=None,\n",
       "             num_parallel_tree=None, random_state=42, ...)</pre><b>In a Jupyter environment, please rerun this cell to show the HTML representation or trust the notebook. <br />On GitHub, the HTML representation is unable to render, please try loading this page with nbviewer.org.</b></div><div class=\"sk-container\" hidden><div class=\"sk-item\"><div class=\"sk-estimator sk-toggleable\"><input class=\"sk-toggleable__control sk-hidden--visually\" id=\"sk-estimator-id-11\" type=\"checkbox\" checked><label for=\"sk-estimator-id-11\" class=\"sk-toggleable__label sk-toggleable__label-arrow\">XGBRegressor</label><div class=\"sk-toggleable__content\"><pre>XGBRegressor(base_score=None, booster=None, callbacks=None,\n",
       "             colsample_bylevel=None, colsample_bynode=None,\n",
       "             colsample_bytree=None, device=None, early_stopping_rounds=None,\n",
       "             enable_categorical=False, eval_metric=None, feature_types=None,\n",
       "             gamma=None, grow_policy=None, importance_type=None,\n",
       "             interaction_constraints=None, learning_rate=None, max_bin=None,\n",
       "             max_cat_threshold=None, max_cat_to_onehot=None,\n",
       "             max_delta_step=None, max_depth=None, max_leaves=None,\n",
       "             min_child_weight=None, missing=nan, monotone_constraints=None,\n",
       "             multi_strategy=None, n_estimators=100, n_jobs=None,\n",
       "             num_parallel_tree=None, random_state=42, ...)</pre></div></div></div></div></div>"
      ],
      "text/plain": [
       "XGBRegressor(base_score=None, booster=None, callbacks=None,\n",
       "             colsample_bylevel=None, colsample_bynode=None,\n",
       "             colsample_bytree=None, device=None, early_stopping_rounds=None,\n",
       "             enable_categorical=False, eval_metric=None, feature_types=None,\n",
       "             gamma=None, grow_policy=None, importance_type=None,\n",
       "             interaction_constraints=None, learning_rate=None, max_bin=None,\n",
       "             max_cat_threshold=None, max_cat_to_onehot=None,\n",
       "             max_delta_step=None, max_depth=None, max_leaves=None,\n",
       "             min_child_weight=None, missing=nan, monotone_constraints=None,\n",
       "             multi_strategy=None, n_estimators=100, n_jobs=None,\n",
       "             num_parallel_tree=None, random_state=42, ...)"
      ]
     },
     "execution_count": 149,
     "metadata": {},
     "output_type": "execute_result"
    }
   ],
   "source": [
    "# Standardize the data\n",
    "scaler = StandardScaler()\n",
    "X_train_scaled = scaler.fit_transform(X_train)\n",
    "X_test_scaled = scaler.transform(X_test)\n",
    "\n",
    "# Train the model\n",
    "model = XGBRegressor(n_estimators=100, random_state=42)\n",
    "model.fit(X_train_scaled, y_train)"
   ]
  },
  {
   "cell_type": "code",
   "execution_count": 150,
   "id": "51d0a53c",
   "metadata": {},
   "outputs": [
    {
     "name": "stdout",
     "output_type": "stream",
     "text": [
      "Feature Importances:\n",
      "                     feature  importance  normalized_importance\n",
      "1                 ram_amount    0.656531               0.656531\n",
      "5  primary_camera_resolution    0.139581               0.139581\n",
      "2            inbuilt_storage    0.054993               0.054993\n",
      "6            clock_speed_ghz    0.052543               0.052543\n",
      "0                     has_5g    0.049908               0.049908\n",
      "4             charging_speed    0.025561               0.025561\n",
      "3               battery_life    0.020883               0.020883\n",
      "Manual Weights:\n",
      "battery_life: 0.25\n",
      "primary_camera_resolution: 0.2\n",
      "ram_amount: 0.15\n",
      "charging_speed: 0.15\n",
      "inbuilt_storage: 0.1\n",
      "clock_speed_ghz: 0.1\n",
      "has_5g: 0.05\n"
     ]
    }
   ],
   "source": [
    "# Get feature importances\n",
    "importances = model.feature_importances_\n",
    "feature_names = features.columns\n",
    "feature_importance_df = pd.DataFrame({'feature': feature_names, 'importance': importances}).sort_values(by='importance', ascending=False)\n",
    "\n",
    "# Normalize feature importances to use as weights\n",
    "total_importance = sum(feature_importance_df['importance'])\n",
    "feature_importance_df['normalized_importance'] = feature_importance_df['importance'] / total_importance\n",
    "\n",
    "# Convert feature importances to a dictionary of weights\n",
    "weights = dict(zip(feature_importance_df['feature'], feature_importance_df['normalized_importance']))\n",
    "\n",
    "print(\"Feature Importances:\")\n",
    "print(feature_importance_df)\n",
    "\n",
    "# Assigning weights based on manual assessment\n",
    "manual_weights = {\n",
    "    'battery_life': 0.25,\n",
    "    'primary_camera_resolution': 0.20,\n",
    "    'ram_amount': 0.15,\n",
    "    'charging_speed': 0.15,\n",
    "    'inbuilt_storage': 0.10,\n",
    "    'clock_speed_ghz': 0.10,\n",
    "    'has_5g': 0.05\n",
    "}\n",
    "\n",
    "print(\"Manual Weights:\")\n",
    "for feature, weight in manual_weights.items():\n",
    "    print(f\"{feature}: {weight}\")\n"
   ]
  },
  {
   "cell_type": "code",
   "execution_count": 151,
   "id": "afbe317e",
   "metadata": {},
   "outputs": [
    {
     "name": "stdout",
     "output_type": "stream",
     "text": [
      "Filtered Data:\n",
      "                                       model    price screen_size_category\n",
      "1                  OnePlus Nord CE 2 Lite 5G  19989.0                large\n",
      "2                      Samsung Galaxy A14 5G  16499.0                large\n",
      "3                       Motorola Moto G62 5G  14999.0                large\n",
      "4                         Realme 10 Pro Plus  24999.0                large\n",
      "5    Samsung Galaxy F23 5G (6GB RAM + 128GB)  16999.0                large\n",
      "..                                       ...      ...                  ...\n",
      "840               Motorola Moto Edge S30 Pro  34990.0                large\n",
      "841                              Honor X8 5G  14990.0                large\n",
      "842          POCO X4 GT 5G (8GB RAM + 256GB)  28990.0                large\n",
      "843                     Motorola Moto G91 5G  19990.0                large\n",
      "844                   Samsung Galaxy M52s 5G  24990.0                large\n",
      "\n",
      "[751 rows x 3 columns]\n"
     ]
    }
   ],
   "source": [
    "# Example user inputs\n",
    "screen_size_preferences = ['large', 'medium']  # Can be ['small', 'medium', 'large']\n",
    "price_range = (5000, 50000)  # Example price range in your currency\n",
    "user_query = \"i want a large phone which has a good camera and fast speed\"\n",
    "\n",
    "# Filter based on user preferences for screen size and price range\n",
    "filtered_data = data[(data['screen_size_category'].isin(screen_size_preferences)) & \n",
    "                     (data['price'] >= price_range[0]) & \n",
    "                     (data['price'] <= price_range[1])]\n",
    "\n",
    "print(\"Filtered Data:\")\n",
    "print(filtered_data[['model', 'price', 'screen_size_category']])\n"
   ]
  },
  {
   "cell_type": "code",
   "execution_count": 152,
   "id": "35b857b3",
   "metadata": {},
   "outputs": [
    {
     "name": "stdout",
     "output_type": "stream",
     "text": [
      "Adjusted Weights:\n",
      "{'battery_life': 0.21739130434782605, 'primary_camera_resolution': 0.2608695652173913, 'ram_amount': 0.13043478260869562, 'charging_speed': 0.13043478260869562, 'inbuilt_storage': 0.08695652173913043, 'clock_speed_ghz': 0.13043478260869565, 'has_5g': 0.043478260869565216}\n",
      "{'ram_amount': 0.5989911823922999, 'primary_camera_resolution': 0.19102172307267698, 'inbuilt_storage': 0.05017307907980884, 'clock_speed_ghz': 0.07190648579495283, 'has_5g': 0.04553429062429272, 'charging_speed': 0.023320804024399722, 'battery_life': 0.01905243501156901}\n"
     ]
    }
   ],
   "source": [
    "# Adjust weights based on the query\n",
    "def adjust_weights(manual_weights, query, boost_factor=1.5):\n",
    "    feature_keywords = {\n",
    "        'camera': 'primary_camera_resolution',\n",
    "        'fast': 'clock_speed_ghz'\n",
    "    }\n",
    "    adjusted_weights = manual_weights.copy()\n",
    "    for keyword, feature in feature_keywords.items():\n",
    "        if keyword in query:\n",
    "            adjusted_weights[feature] *= boost_factor\n",
    "    total_weight = sum(adjusted_weights.values())\n",
    "    normalized_adjusted_weights = {k: v / total_weight for k, v in adjusted_weights.items()}\n",
    "    return normalized_adjusted_weights\n",
    "\n",
    "# Adjust weights\n",
    "adjusted_weights = adjust_weights(manual_weights, user_query)\n",
    "adjusted_weights1 = adjust_weights(weights, user_query)\n",
    "\n",
    "print(\"Adjusted Weights:\")\n",
    "print(adjusted_weights)\n",
    "print(adjusted_weights1)"
   ]
  },
  {
   "cell_type": "code",
   "execution_count": 143,
   "id": "04f017d4",
   "metadata": {},
   "outputs": [
    {
     "name": "stdout",
     "output_type": "stream",
     "text": [
      "Filtered Data Columns:\n",
      "Index(['model', 'price', 'rating', 'company', 'is_dual_sim', 'has_5g',\n",
      "       'supports_volte', 'supports_wifi', 'supports_nfc', 'ram_amount',\n",
      "       'inbuilt_storage', 'battery_life', 'charging_speed', 'screen_size',\n",
      "       'resolution_width', 'resolution_height', 'memory_card_supported',\n",
      "       'primary_camera_resolution', 'num_rear_cameras', 'clock_speed_ghz',\n",
      "       'screen_size_category', 'generated_rating'],\n",
      "      dtype='object')\n"
     ]
    }
   ],
   "source": [
    "# Function to calculate the score\n",
    "def calculate_score(row, manual_weights):\n",
    "    score = 0\n",
    "    for feature in manual_weights.keys():\n",
    "        score += row[feature] * manual_weights[feature]\n",
    "    return score\n",
    "\n",
    "# Ensure all necessary features are present in the filtered dataset\n",
    "print(\"Filtered Data Columns:\")\n",
    "print(filtered_data.columns)"
   ]
  },
  {
   "cell_type": "code",
   "execution_count": 153,
   "id": "43897e0b",
   "metadata": {},
   "outputs": [
    {
     "name": "stdout",
     "output_type": "stream",
     "text": [
      "Top 5 Phones:\n",
      "                              model    price  screen_size  generated_rating\n",
      "732                    Doogee V Max  45999.0         6.58       4839.295652\n",
      "345                    Oukitel WP19  29990.0         6.78       4609.834783\n",
      "417              Samsung Galaxy F63  21999.0         6.70       1555.008696\n",
      "716              Samsung Galaxy M62  23999.0         6.71       1555.008261\n",
      "251  Tecno Pova 3 (6GB RAM + 128GB)  13799.0         6.90       1551.313043\n",
      "                  model    price  screen_size  generated_rating1\n",
      "732        Doogee V Max  45999.0         6.58         460.818196\n",
      "345        Oukitel WP19  29990.0         6.78         430.904925\n",
      "800        Nokia X60 5G  39990.0         6.51         163.580277\n",
      "417  Samsung Galaxy F63  21999.0         6.70         156.596233\n",
      "716  Samsung Galaxy M62  23999.0         6.71         156.574428\n"
     ]
    },
    {
     "name": "stderr",
     "output_type": "stream",
     "text": [
      "C:\\Users\\User\\AppData\\Local\\Temp\\ipykernel_20736\\622151785.py:2: SettingWithCopyWarning: \n",
      "A value is trying to be set on a copy of a slice from a DataFrame.\n",
      "Try using .loc[row_indexer,col_indexer] = value instead\n",
      "\n",
      "See the caveats in the documentation: https://pandas.pydata.org/pandas-docs/stable/user_guide/indexing.html#returning-a-view-versus-a-copy\n",
      "  filtered_data['generated_rating'] = filtered_data.apply(lambda row: calculate_score(row, adjusted_weights), axis=1)\n",
      "C:\\Users\\User\\AppData\\Local\\Temp\\ipykernel_20736\\622151785.py:3: SettingWithCopyWarning: \n",
      "A value is trying to be set on a copy of a slice from a DataFrame.\n",
      "Try using .loc[row_indexer,col_indexer] = value instead\n",
      "\n",
      "See the caveats in the documentation: https://pandas.pydata.org/pandas-docs/stable/user_guide/indexing.html#returning-a-view-versus-a-copy\n",
      "  filtered_data['generated_rating1'] = filtered_data.apply(lambda row: calculate_score(row, adjusted_weights1), axis=1)\n"
     ]
    }
   ],
   "source": [
    "# Apply the scoring function to each row in the filtered dataset\n",
    "filtered_data['generated_rating'] = filtered_data.apply(lambda row: calculate_score(row, adjusted_weights), axis=1)\n",
    "filtered_data['generated_rating1'] = filtered_data.apply(lambda row: calculate_score(row, adjusted_weights1), axis=1)\n",
    "# Sort the phones by the generated ratings\n",
    "top_5_phones = filtered_data.sort_values(by='generated_rating', ascending=False).head(5)\n",
    "top_5_phones1 = filtered_data.sort_values(by='generated_rating1', ascending=False).head(5)\n",
    "# Display the top 5 phones\n",
    "print(\"Top 5 Phones:\")\n",
    "print(top_5_phones[['model', 'price', 'screen_size', 'generated_rating']])\n",
    "print(top_5_phones1[['model', 'price', 'screen_size', 'generated_rating1']])"
   ]
  },
  {
   "cell_type": "code",
   "execution_count": null,
   "id": "c7be94f6",
   "metadata": {},
   "outputs": [],
   "source": []
  },
  {
   "cell_type": "code",
   "execution_count": null,
   "id": "8d695213",
   "metadata": {},
   "outputs": [],
   "source": []
  }
 ],
 "metadata": {
  "kernelspec": {
   "display_name": "Python 3 (ipykernel)",
   "language": "python",
   "name": "python3"
  },
  "language_info": {
   "codemirror_mode": {
    "name": "ipython",
    "version": 3
   },
   "file_extension": ".py",
   "mimetype": "text/x-python",
   "name": "python",
   "nbconvert_exporter": "python",
   "pygments_lexer": "ipython3",
   "version": "3.9.13"
  }
 },
 "nbformat": 4,
 "nbformat_minor": 5
}
